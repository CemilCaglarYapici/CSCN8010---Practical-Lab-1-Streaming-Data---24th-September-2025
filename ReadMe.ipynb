{
 "cells": [
  {
   "cell_type": "markdown",
   "id": "7ab51811",
   "metadata": {},
   "source": [
    "This is testing of Cemil Caglar Yapici's \"Practical Lab 1: Streaming Data for Predictive Maintenance with Linear Regression-Based Alerts\" for 24th September 2025"
   ]
  },
  {
   "cell_type": "markdown",
   "id": "def0eb9a",
   "metadata": {},
   "source": [
    "This Project contains files, datasets and images from \"Data Streaming Visualization Workshop\" from 14th of september 2025 and\n",
    "\"Practical Lab 1 - Streaming Data for Predictive Maintenance with Linear Regression-Based Alerts\" from 24th of September 2025"
   ]
  }
 ],
 "metadata": {
  "kernelspec": {
   "display_name": "Python 3",
   "language": "python",
   "name": "python3"
  },
  "language_info": {
   "name": "python",
   "version": "3.13.7"
  }
 },
 "nbformat": 4,
 "nbformat_minor": 5
}
